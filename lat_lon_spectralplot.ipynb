{
 "cells": [
  {
   "cell_type": "markdown",
   "id": "06c82833-001e-4ae6-aab8-95af77fbad7a",
   "metadata": {},
   "source": [
    "### Demo of transforming a lat/lon location and plotting the location's spectral profile "
   ]
  },
  {
   "cell_type": "code",
   "execution_count": 1,
   "id": "7dcc64f2-2f1b-42c1-9782-c4775fe4a302",
   "metadata": {},
   "outputs": [],
   "source": [
    "import matplotlib.pyplot as plt\n",
    "from spectral.io import envi\n",
    "import numpy as np\n",
    "from pyproj import Proj\n",
    "import os\n",
    "from osgeo import gdal"
   ]
  },
  {
   "cell_type": "code",
   "execution_count": 2,
   "id": "fe4b455f-8cb4-45ee-9d2d-dfdba232b377",
   "metadata": {},
   "outputs": [
    {
     "data": {
      "text/plain": [
       "[-34.331919, 18.462524]"
      ]
     },
     "execution_count": 2,
     "metadata": {},
     "output_type": "execute_result"
    }
   ],
   "source": [
    "data_file = 'ang20231109t130728_001_L2A_OE_main_27577724_RFL_ORT'\n",
    "#coords = [-33.494364,\t20.704742]\n",
    "# Swapping this out for a scene that I've already downloaded\n",
    "# Just picked a location within said scene\n",
    "coords = [-34.331919,\t18.462524]\n",
    "coords"
   ]
  },
  {
   "cell_type": "code",
   "execution_count": 3,
   "id": "17b19d75-086e-488c-9e8b-549957043dc3",
   "metadata": {},
   "outputs": [
    {
     "data": {
      "text/plain": [
       "'PROJCS[\"unnamed\",GEOGCS[\"WGS 84\",DATUM[\"WGS_1984\",SPHEROID[\"WGS 84\",6378137,298.257223563,AUTHORITY[\"EPSG\",\"7030\"]],AUTHORITY[\"EPSG\",\"6326\"]],PRIMEM[\"Greenwich\",0,AUTHORITY[\"EPSG\",\"8901\"]],UNIT[\"degree\",0.0174532925199433,AUTHORITY[\"EPSG\",\"9122\"]],AUTHORITY[\"EPSG\",\"4326\"]],PROJECTION[\"Transverse_Mercator\"],PARAMETER[\"latitude_of_origin\",0],PARAMETER[\"central_meridian\",21],PARAMETER[\"scale_factor\",0.9996],PARAMETER[\"false_easting\",500000],PARAMETER[\"false_northing\",10000000],UNIT[\"Meter\",1],AXIS[\"Easting\",EAST],AXIS[\"Northing\",NORTH]]'"
      ]
     },
     "execution_count": 3,
     "metadata": {},
     "output_type": "execute_result"
    }
   ],
   "source": [
    "data_file\n",
    "gdal_ds = gdal.Open(data_file)\n",
    "proj_native = gdal_ds.GetProjection()\n",
    "proj_native"
   ]
  },
  {
   "cell_type": "markdown",
   "id": "85d62e54-b193-430b-ad59-11b0b881cc26",
   "metadata": {},
   "source": [
    "#### Geotransform\n",
    "[GDAL Geotranform](https://gdal.org/tutorials/geotransforms_tut.html)\n",
    "\n",
    "A geotransform is an affine transformation from the image coordinate space (row, column), also known as (pixel, line) to the georeferenced coordinate space (projected or geographic coordinates)."
   ]
  },
  {
   "cell_type": "code",
   "execution_count": 4,
   "id": "ed8b9abf-ae2e-4b69-ad01-67064f473816",
   "metadata": {},
   "outputs": [
    {
     "data": {
      "text/plain": [
       "(264948.18243014097, 4.9, 0.0, 6200109.09601481, 0.0, -4.9)"
      ]
     },
     "execution_count": 4,
     "metadata": {},
     "output_type": "execute_result"
    }
   ],
   "source": [
    "trans = gdal_ds.GetGeoTransform() # x_ul, x_px, x_rot, y_ul, y_rot, y_px\n",
    "trans"
   ]
  },
  {
   "cell_type": "code",
   "execution_count": null,
   "id": "76985b2c-b2db-41ee-93b2-b7e2495e741e",
   "metadata": {},
   "outputs": [],
   "source": []
  },
  {
   "cell_type": "code",
   "execution_count": 5,
   "id": "9ff890a9-3647-4046-8b87-15dee15422a7",
   "metadata": {},
   "outputs": [
    {
     "data": {
      "text/plain": [
       "\tData Source:   '.\\ang20231109t130728_001_L2A_OE_main_27577724_RFL_ORT'\n",
       "\t# Rows:            777\n",
       "\t# Samples:         645\n",
       "\t# Bands:           425\n",
       "\tInterleave:        BIL\n",
       "\tQuantization:  32 bits\n",
       "\tData format:   float32"
      ]
     },
     "execution_count": 5,
     "metadata": {},
     "output_type": "execute_result"
    }
   ],
   "source": [
    "ds = envi.open(os.path.splitext(data_file)[0] + '.hdr')\n",
    "ds"
   ]
  },
  {
   "cell_type": "code",
   "execution_count": 6,
   "id": "f7a8f435-4657-434d-83a5-f511a7dcf681",
   "metadata": {},
   "outputs": [
    {
     "name": "stdout",
     "output_type": "stream",
     "text": [
      "266556.95619134826\n",
      "6198123.964575693\n"
     ]
    }
   ],
   "source": [
    "# add step to translate coordinates\n",
    "# EPSG:32734 - WGS-84 / UTM zone 34S\n",
    "# clean this up !!\n",
    "from pyproj import Proj\n",
    "p = Proj(\"EPSG:32734\", preserve_units=False)\n",
    "x,y = p(18.462524, -34.331919)\n",
    "print(x)\n",
    "print(y)\n",
    "coords_UTM = [6198123.964575693, 266556.95619134826]"
   ]
  },
  {
   "cell_type": "code",
   "execution_count": 7,
   "id": "629d519d-a7e9-4eaa-a144-2056ff59afde",
   "metadata": {},
   "outputs": [],
   "source": [
    "# NEED TO TRANSLATE CORRDINATES AND USE coords_UTM\n",
    "# COPIED BELOW\n",
    "# DELETE THIS\n",
    "#x_px_offset = int(round((coords[1] - trans[0]) / trans[1]))\n",
    "#y_px_offset = int(round((coords[0] - trans[3]) / trans[5]))\n",
    "\n",
    "#print(x_px_offset, y_px_offset)"
   ]
  },
  {
   "cell_type": "code",
   "execution_count": 8,
   "id": "333befd5-1b6c-46ae-a6d7-8251b1241fa9",
   "metadata": {},
   "outputs": [
    {
     "name": "stdout",
     "output_type": "stream",
     "text": [
      "328 405\n"
     ]
    }
   ],
   "source": [
    "x_px_offset = int(round((coords_UTM[1] - trans[0]) / trans[1]))\n",
    "y_px_offset = int(round((coords_UTM[0] - trans[3]) / trans[5]))\n",
    "\n",
    "print(x_px_offset, y_px_offset)"
   ]
  },
  {
   "cell_type": "code",
   "execution_count": 9,
   "id": "3cd4a844-735d-44ab-9b66-5317fe9aac97",
   "metadata": {},
   "outputs": [
    {
     "data": {
      "text/plain": [
       "memmap([[[-0.01      ,  0.00412263,  0.01015606, ...,  0.07826312,\n",
       "           0.07825156, -0.01      ],\n",
       "         [-0.01      , -0.00163075,  0.01063511, ...,  0.0719026 ,\n",
       "           0.07175852, -0.01      ]],\n",
       "\n",
       "        [[-0.01      ,  0.00702074,  0.00818069, ...,  0.05249596,\n",
       "           0.05261677, -0.01      ],\n",
       "         [-0.01      ,  0.00697051,  0.00858138, ...,  0.05006736,\n",
       "           0.05000218, -0.01      ]]], dtype=float32)"
      ]
     },
     "execution_count": 9,
     "metadata": {},
     "output_type": "execute_result"
    }
   ],
   "source": [
    "offset_size = 1\n",
    "data = ds.open_memmap(interleave='bip')[y_px_offset - 1: y_px_offset + 1, x_px_offset - 1: x_px_offset + 1, :]\n",
    "data"
   ]
  },
  {
   "cell_type": "code",
   "execution_count": 10,
   "id": "054829b0-6bb8-43a5-882e-8c939b8ee8c9",
   "metadata": {},
   "outputs": [
    {
     "data": {
      "text/plain": [
       "[<matplotlib.lines.Line2D at 0x2682e006750>]"
      ]
     },
     "execution_count": 10,
     "metadata": {},
     "output_type": "execute_result"
    },
    {
     "data": {
      "image/png": "[encoded data removed]",
      "text/plain": [
       "<Figure size 640x480 with 1 Axes>"
      ]
     },
     "metadata": {},
     "output_type": "display_data"
    }
   ],
   "source": [
    "wl = np.array([float(x) for x in ds.metadata['wavelength']])\n",
    "\n",
    "plt.plot(wl, np.mean(data, axis=(0, 1)))\n",
    "# plot the average spectrum"
   ]
  },
  {
   "cell_type": "code",
   "execution_count": 11,
   "id": "1783fb65-1b42-44b2-9348-74da1442b6db",
   "metadata": {},
   "outputs": [],
   "source": [
    "# Define a list of wavelengths that are \"bad\" \n",
    "\n",
    "bblist = np.ones((425,))  # create a 1D array with values ones\n",
    "# set tails and atmospheric window to zero\n",
    "bblist[0:14] = 0        # tail\n",
    "bblist[189:225] = 0     # atmospheric window\n",
    "bblist[281:336] = 0     # atmospheric window\n",
    "bblist[405:] = 0        # tail"
   ]
  },
  {
   "cell_type": "code",
   "execution_count": 12,
   "id": "ef95f6b7-bad5-42a2-95c5-20e9fe00f525",
   "metadata": {},
   "outputs": [
    {
     "data": {
      "text/plain": [
       "[<matplotlib.lines.Line2D at 0x2689448a720>]"
      ]
     },
     "execution_count": 12,
     "metadata": {},
     "output_type": "execute_result"
    },
    {
     "data": {
      "image/png": "[encoded data removed]",
      "text/plain": [
       "<Figure size 640x480 with 1 Axes>"
      ]
     },
     "metadata": {},
     "output_type": "display_data"
    }
   ],
   "source": [
    "# Re-plot with the bad bands list and wavelengths applied\n",
    "wl[bblist == 0] = np.nan    # vegeatation pixel\n",
    "#SRB090[bblist == 0] = np.nan    # water pixel\n",
    "plt.plot(wl, np.mean(data, axis=(0, 1)))"
   ]
  },
  {
   "cell_type": "code",
   "execution_count": null,
   "id": "0545f848-1e00-46fc-8fda-ea74b3124d4b",
   "metadata": {},
   "outputs": [],
   "source": []
  },
  {
   "cell_type": "code",
   "execution_count": null,
   "id": "e93d3c1b-027f-45d0-a241-0b600af59f3f",
   "metadata": {},
   "outputs": [],
   "source": []
  }
 ],
 "metadata": {
  "kernelspec": {
   "display_name": "Python 3 (ipykernel)",
   "language": "python",
   "name": "python3"
  },
  "language_info": {
   "codemirror_mode": {
    "name": "ipython",
    "version": 3
   },
   "file_extension": ".py",
   "mimetype": "text/x-python",
   "name": "python",
   "nbconvert_exporter": "python",
   "pygments_lexer": "ipython3",
   "version": "3.12.3"
  }
 },
 "nbformat": 4,
 "nbformat_minor": 5
}
